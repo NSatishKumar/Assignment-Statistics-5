{
 "cells": [
  {
   "cell_type": "markdown",
   "metadata": {},
   "source": [
    "### Problem Statement 1: \n",
    "\n",
    "In each of the following situations, state whether it is a correctly stated hypothesis \n",
    "testing problem and why? \n",
    "\n",
    "      1. 𝐻   :𝜇 =25, 𝐻  :𝜇 ≠ 25 \n",
    "             0             1 \n",
    "\n",
    "      2.  𝐻  :𝜎 > 10, 𝐻  :𝜎 = 10 \n",
    "            0              1 \n",
    "\n",
    "     3.  𝐻  : 𝑥̅  = 50, 𝐻  : 𝑥̅  ≠ 50 \n",
    "           0               1 \n",
    "\n",
    "     4.  𝐻  : 𝑝 = 0.1, 𝐻  : 𝑝 = 0.5 \n",
    "           0                1 \n",
    "\n",
    "     5.  𝐻  :s = 30, 𝐻  :s  > 30 \n",
    "           0               1 \n"
   ]
  },
  {
   "cell_type": "markdown",
   "metadata": {},
   "source": [
    "<img src=\"Stacs5/stacs5_1_1.jpg\">"
   ]
  },
  {
   "cell_type": "markdown",
   "metadata": {},
   "source": [
    "<img src=\"Stacs5/stacs5_1_2.jpg\">"
   ]
  },
  {
   "cell_type": "markdown",
   "metadata": {},
   "source": [
    "## Problem Statement 2: \n",
    "\n",
    "The college bookstore tells prospective students that the average cost of its textbooks is \n",
    "Rs. 52 with a standard deviation of Rs. 4.50. A group of smart statistics students thinks \n",
    "that the average cost is higher. To test the bookstore’s claim against their alternative, the \n",
    "students   will   select   a   random   sample   of   size   100.   Assume   that   the   mean   from   their \n",
    "random sample is Rs. 52.80. Perform a hypothesis test at the 5% level of significance \n",
    "and state your decision. "
   ]
  },
  {
   "cell_type": "markdown",
   "metadata": {},
   "source": [
    "<img src=\"Stacs5/stacs5_2.jpg\">"
   ]
  },
  {
   "cell_type": "code",
   "execution_count": null,
   "metadata": {},
   "outputs": [],
   "source": []
  },
  {
   "cell_type": "markdown",
   "metadata": {},
   "source": [
    "## Problem Statement 3: \n",
    "\n",
    "A certain chemical pollutant in the Genesee River has been constant for several years \n",
    "with mean μ = 34 ppm (parts per million) and standard deviation σ = 8 ppm. A group of  \n",
    "factory representatives whose companies discharge liquids into the river is now claiming \n",
    "that   they   have    lowered    the  average     with  improved     filtration  devices.   A  group    of \n",
    "environmentalists will test to see if this is true at the 1% level of significance. Assume \\ \n",
    "that their sample of size 50 gives a mean of 32.5 ppm. Perform a hypothesis test at the \n",
    "1% level of significance and state your decision. "
   ]
  },
  {
   "cell_type": "markdown",
   "metadata": {},
   "source": [
    "<img src=\"Stacs5/stacs5_3.jpg\">"
   ]
  },
  {
   "cell_type": "markdown",
   "metadata": {},
   "source": [
    "## Problem Statement 4: \n",
    "\n",
    "Based on population figures and other general information on the U.S. population, \n",
    "suppose it has been estimated that, on average, a family of four in the U.S. spends about \n",
    "$1135 annually on dental expenditures. Suppose further that a regional dental association \n",
    "wants to test to determine if this figure is accurate for their area of country. To test this,\n",
    "22 families of 4 are randomly selected from the population in that area of the country and \n",
    "a log is kept of the family’s dental expenditure for one year. The resulting data are given  \n",
    "below. Assuming, that dental expenditure is normally distributed in the population, use \n",
    "the data and an alpha of 0.5 to test the dental association’s hypothesis. \n",
    "1008, 812, 1117, 1323, 1308, 1415, 831, 1021, 1287, 851, 930, 730, 699, \n",
    "872, 913, 944, 954, 987, 1695, 995, 1003, 99422 families of 4 are randomly selected from the population in that area of the country and \n",
    "a log is kept of the family’s dental expenditure for one year. The resulting data are given  \n",
    "below. Assuming, that dental expenditure is normally distributed in the population, use \n",
    "the data and an alpha of 0.5 to test the dental association’s hypothesis. \n",
    "1008, 812, 1117, 1323, 1308, 1415, 831, 1021, 1287, 851, 930, 730, 699, \n",
    "872, 913, 944, 954, 987, 1695, 995, 1003, 994"
   ]
  },
  {
   "cell_type": "markdown",
   "metadata": {},
   "source": [
    "<img src=\"Stacs5/stacs5_4_1.jpg\">"
   ]
  },
  {
   "cell_type": "markdown",
   "metadata": {},
   "source": [
    "<img src=\"Stacs5/stacs5_4_2.jpg\">"
   ]
  },
  {
   "cell_type": "code",
   "execution_count": null,
   "metadata": {},
   "outputs": [],
   "source": []
  },
  {
   "cell_type": "markdown",
   "metadata": {},
   "source": [
    "## Problem Statement 5:\n",
    "\n",
    "In a report prepared by the Economic Research Department of a major bank the \n",
    "Department manager maintains that the average annual family income on Metropolis is \n",
    "$48,432. What do you conclude about the validity of the report if a random sample of 400 \n",
    "families shows and average income of $48,574 with a standard deviation of 2000? "
   ]
  },
  {
   "cell_type": "markdown",
   "metadata": {},
   "source": [
    "<img src=\"Stacs5/stacs5_5_1.jpg\">"
   ]
  },
  {
   "cell_type": "markdown",
   "metadata": {},
   "source": [
    "<img src=\"Stacs5/stacs5_5_2.jpg\">"
   ]
  },
  {
   "cell_type": "code",
   "execution_count": null,
   "metadata": {},
   "outputs": [],
   "source": []
  },
  {
   "cell_type": "markdown",
   "metadata": {},
   "source": [
    "## Problem Statement 6: \n",
    "\n",
    "Suppose that in past years the average price per square foot for warehouses in the United \n",
    "States has been $32.28. A national real estate investor wants to determine whether that \n",
    "figure   has   changed   now.   The   investor   hires   a   researcher   who   randomly   samples   19 \n",
    "warehouses that are for sale across the United States and finds that the mean price per \n",
    "square   foot   is   $31.67,   with   a   standard   deviation   of   $1.29.   assume   that   the   prices   of \n",
    "warehouse footage are normally distributed in population. If the researcher uses a 5% \n",
    "level    of  significance,     what    statistical  conclusion      can   be   reached?      What    are   the \n",
    "hypotheses? "
   ]
  },
  {
   "cell_type": "markdown",
   "metadata": {},
   "source": [
    "<img src=\"Stacs5/stacs5_6.jpg\">"
   ]
  },
  {
   "cell_type": "code",
   "execution_count": null,
   "metadata": {},
   "outputs": [],
   "source": []
  },
  {
   "cell_type": "markdown",
   "metadata": {},
   "source": [
    "## Problem Statement 7: \n",
    "\n",
    "Fill in the blank spaces in the table and draw your conclusions from it. \n",
    "\n",
    " Acceptance region                 Sample size             α           𝛽 𝒂𝒕 𝜇  =  52   𝛽 𝒂𝒕 𝜇   =  50. 5 \n",
    "\n",
    "       48.5   <  𝑥̅    <  51.5          10 \n",
    "\n",
    "        48   <  𝑥̅    <  52             10 \n",
    "\n",
    "      48.81   <  𝑥̅    <  51.9          16 \n",
    "\n",
    "     48.42   <  𝑥̅    <  51.58          16 "
   ]
  },
  {
   "cell_type": "markdown",
   "metadata": {},
   "source": [
    "<img src=\"Stacs5/stacs5_7_1.jpg\">"
   ]
  },
  {
   "cell_type": "markdown",
   "metadata": {},
   "source": [
    "<img src=\"Stacs5/stacs5_7_2.jpg\">"
   ]
  },
  {
   "cell_type": "markdown",
   "metadata": {},
   "source": [
    "<img src=\"Stacs5/stacs5_7_3.jpg\">"
   ]
  },
  {
   "cell_type": "markdown",
   "metadata": {},
   "source": [
    "<img src=\"Stacs5/stacs5_7_4.jpg\">"
   ]
  },
  {
   "cell_type": "markdown",
   "metadata": {},
   "source": [
    "<img src=\"Stacs5/stacs5_7_5.jpg\">"
   ]
  },
  {
   "cell_type": "markdown",
   "metadata": {},
   "source": [
    "<img src=\"Stacs5/stacs5_7_6.jpg\">"
   ]
  },
  {
   "cell_type": "markdown",
   "metadata": {},
   "source": [
    "<img src=\"Stacs5/stacs5_7_7.jpg\">"
   ]
  },
  {
   "cell_type": "markdown",
   "metadata": {},
   "source": [
    "<img src=\"Stacs5/stacs5_7_8.jpg\">"
   ]
  },
  {
   "cell_type": "code",
   "execution_count": null,
   "metadata": {},
   "outputs": [],
   "source": []
  },
  {
   "cell_type": "markdown",
   "metadata": {},
   "source": [
    "## Problem Statement 8:\n",
    "\n",
    "Find the t-score for a sample size of 16 taken from a population with mean 10 when the \n",
    "sample mean is 12 and the sample standard deviation is 1.5. "
   ]
  },
  {
   "cell_type": "markdown",
   "metadata": {},
   "source": [
    "<img src=\"Stacs5/stacs5_8.jpg\">"
   ]
  },
  {
   "cell_type": "code",
   "execution_count": null,
   "metadata": {},
   "outputs": [],
   "source": []
  },
  {
   "cell_type": "markdown",
   "metadata": {},
   "source": [
    "## Problem Statement 9: \n",
    "\n",
    "Find the t-score below which we can expect 99% of sample means will fall if samples of \n",
    "size 16 are taken from a normally distributed population. \n"
   ]
  },
  {
   "cell_type": "markdown",
   "metadata": {},
   "source": [
    "<img src=\"Stacs5/stacs5_9.jpg\">"
   ]
  },
  {
   "cell_type": "code",
   "execution_count": null,
   "metadata": {},
   "outputs": [],
   "source": []
  },
  {
   "cell_type": "markdown",
   "metadata": {},
   "source": [
    "## Problem Statement 10:\n",
    "\n",
    "If a random sample of size 25 drawn from a normal population gives a mean of 60 and a \n",
    "standard deviation of 4, find the range of t-scores where we can expect to find the \n",
    "middle 95% of all sample means. Compute the probability that 𝑃(-t0.05   <t < t0.10). "
   ]
  },
  {
   "cell_type": "markdown",
   "metadata": {},
   "source": [
    "<img src=\"Stacs5/stacs5_10.jpg\">"
   ]
  },
  {
   "cell_type": "code",
   "execution_count": null,
   "metadata": {},
   "outputs": [],
   "source": []
  },
  {
   "cell_type": "code",
   "execution_count": null,
   "metadata": {},
   "outputs": [],
   "source": []
  },
  {
   "cell_type": "code",
   "execution_count": null,
   "metadata": {},
   "outputs": [],
   "source": []
  },
  {
   "cell_type": "code",
   "execution_count": null,
   "metadata": {},
   "outputs": [],
   "source": []
  },
  {
   "cell_type": "code",
   "execution_count": null,
   "metadata": {},
   "outputs": [],
   "source": []
  },
  {
   "cell_type": "code",
   "execution_count": null,
   "metadata": {},
   "outputs": [],
   "source": []
  },
  {
   "cell_type": "code",
   "execution_count": null,
   "metadata": {},
   "outputs": [],
   "source": []
  },
  {
   "cell_type": "code",
   "execution_count": null,
   "metadata": {},
   "outputs": [],
   "source": []
  },
  {
   "cell_type": "code",
   "execution_count": null,
   "metadata": {},
   "outputs": [],
   "source": []
  },
  {
   "cell_type": "code",
   "execution_count": null,
   "metadata": {},
   "outputs": [],
   "source": []
  },
  {
   "cell_type": "code",
   "execution_count": null,
   "metadata": {},
   "outputs": [],
   "source": []
  },
  {
   "cell_type": "code",
   "execution_count": null,
   "metadata": {},
   "outputs": [],
   "source": []
  },
  {
   "cell_type": "code",
   "execution_count": null,
   "metadata": {},
   "outputs": [],
   "source": []
  },
  {
   "cell_type": "code",
   "execution_count": null,
   "metadata": {},
   "outputs": [],
   "source": []
  },
  {
   "cell_type": "code",
   "execution_count": null,
   "metadata": {},
   "outputs": [],
   "source": []
  },
  {
   "cell_type": "code",
   "execution_count": null,
   "metadata": {},
   "outputs": [],
   "source": []
  },
  {
   "cell_type": "code",
   "execution_count": null,
   "metadata": {},
   "outputs": [],
   "source": []
  },
  {
   "cell_type": "code",
   "execution_count": null,
   "metadata": {},
   "outputs": [],
   "source": []
  },
  {
   "cell_type": "code",
   "execution_count": null,
   "metadata": {},
   "outputs": [],
   "source": []
  },
  {
   "cell_type": "code",
   "execution_count": null,
   "metadata": {},
   "outputs": [],
   "source": []
  },
  {
   "cell_type": "code",
   "execution_count": null,
   "metadata": {},
   "outputs": [],
   "source": []
  },
  {
   "cell_type": "code",
   "execution_count": null,
   "metadata": {},
   "outputs": [],
   "source": []
  },
  {
   "cell_type": "code",
   "execution_count": null,
   "metadata": {},
   "outputs": [],
   "source": []
  },
  {
   "cell_type": "code",
   "execution_count": null,
   "metadata": {},
   "outputs": [],
   "source": []
  },
  {
   "cell_type": "code",
   "execution_count": null,
   "metadata": {},
   "outputs": [],
   "source": []
  },
  {
   "cell_type": "code",
   "execution_count": null,
   "metadata": {},
   "outputs": [],
   "source": []
  },
  {
   "cell_type": "code",
   "execution_count": null,
   "metadata": {},
   "outputs": [],
   "source": []
  },
  {
   "cell_type": "code",
   "execution_count": null,
   "metadata": {},
   "outputs": [],
   "source": []
  },
  {
   "cell_type": "code",
   "execution_count": null,
   "metadata": {},
   "outputs": [],
   "source": []
  },
  {
   "cell_type": "code",
   "execution_count": null,
   "metadata": {},
   "outputs": [],
   "source": []
  },
  {
   "cell_type": "code",
   "execution_count": null,
   "metadata": {},
   "outputs": [],
   "source": []
  }
 ],
 "metadata": {
  "kernelspec": {
   "display_name": "Python 3",
   "language": "python",
   "name": "python3"
  },
  "language_info": {
   "codemirror_mode": {
    "name": "ipython",
    "version": 3
   },
   "file_extension": ".py",
   "mimetype": "text/x-python",
   "name": "python",
   "nbconvert_exporter": "python",
   "pygments_lexer": "ipython3",
   "version": "3.7.0"
  }
 },
 "nbformat": 4,
 "nbformat_minor": 2
}
